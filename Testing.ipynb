{
 "cells": [
  {
   "cell_type": "code",
   "execution_count": null,
   "metadata": {},
   "outputs": [],
   "source": [
    "import sounddevice as sd\n",
    "from scipy.io.wavfile import write\n",
    "import matplotlib.pyplot as plt\n",
    "import numpy as np\n",
    "import librosa.display\n",
    "import IPython.display as ipd\n",
    "\n"
   ]
  },
  {
   "cell_type": "code",
   "execution_count": null,
   "metadata": {},
   "outputs": [],
   "source": [
    "filename = 'crazy_fred_MONO.wav'\n",
    "\n",
    "# Load the audio file\n",
    "y, sr = librosa.load(filename, sr=44100)\n",
    "\n",
    "#new stereo array\n",
    "#stereo_array = np.hstack((y,y))\n",
    "stereo_array = np.array([y,y])\n",
    "stereo_out = np.transpose(stereo_array)\n",
    "\n"
   ]
  },
  {
   "cell_type": "code",
   "execution_count": 11,
   "metadata": {},
   "outputs": [],
   "source": [
    "x=np.array([1,2,3,4])\n",
    "period = 1/44100\n",
    "#function to delay right channel by x number of zeros\n",
    "def shift_right_channel(input_array, time_ms, period):\n",
    "    #convert time to amound of zeros, round and convert to int\n",
    "    num_zeros_float = np.round(time_ms/(period*1000))\n",
    "    num_zeros = num_zeros_float.astype(int)\n",
    "    #append zeros to left (top) array so both have the same size\n",
    "    shifted_array_channel_l = np.append(input_array,np.zeros(num_zeros))\n",
    "    #shift right (bottom) channel x number of zeros\n",
    "    shifted_array_channel_r = np.insert(input_array, 0, np.zeros(num_zeros))\n",
    "    #combine and transpose array to be vertical\n",
    "    transposed_stereo_out = np.array([shifted_array_channel_l,shifted_array_channel_r]).T\n",
    "    return transposed_stereo_out\n",
    "\n",
    "\n",
    "#shift_1ms = np.array([y,np.insert(x, 0, np.zeros(44))])\n",
    "out = shift_right_channel(x, 0.2, period)"
   ]
  },
  {
   "cell_type": "code",
   "execution_count": null,
   "metadata": {},
   "outputs": [],
   "source": [
    "x=np.array([1,2,3,4])\n",
    "\n",
    "shifted_array_channel_l = np.append(x,np.zeros(4))\n",
    "shifted_array_channel_r = np.insert(x, 0, np.zeros(4))\n",
    "transposed_stereo_out = np.array([shifted_array_channel_l,shifted_array_channel_r]).T\n",
    "print(transposed_stereo_out)"
   ]
  },
  {
   "cell_type": "code",
   "execution_count": null,
   "metadata": {},
   "outputs": [],
   "source": [
    "\n",
    "#Save to a wav file\n",
    "write(f\"{filename}_STEREO_CONVERT.wav\", sr, stereo_out)\n",
    "write(f\"{filename}TESTING.wav\", sr, np.int16(stereo_out))"
   ]
  }
 ],
 "metadata": {
  "kernelspec": {
   "display_name": "Python 3",
   "language": "python",
   "name": "python3"
  },
  "language_info": {
   "codemirror_mode": {
    "name": "ipython",
    "version": 3
   },
   "file_extension": ".py",
   "mimetype": "text/x-python",
   "name": "python",
   "nbconvert_exporter": "python",
   "pygments_lexer": "ipython3",
   "version": "3.11.7"
  }
 },
 "nbformat": 4,
 "nbformat_minor": 2
}
